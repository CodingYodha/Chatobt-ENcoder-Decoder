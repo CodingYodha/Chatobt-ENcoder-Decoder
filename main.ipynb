{
 "cells": [
  {
   "cell_type": "code",
   "execution_count": 1,
   "metadata": {},
   "outputs": [],
   "source": [
    "import torch"
   ]
  },
  {
   "cell_type": "code",
   "execution_count": 2,
   "metadata": {},
   "outputs": [
    {
     "data": {
      "text/plain": [
       "True"
      ]
     },
     "execution_count": 2,
     "metadata": {},
     "output_type": "execute_result"
    }
   ],
   "source": [
    "torch.cuda.is_available()"
   ]
  },
  {
   "cell_type": "code",
   "execution_count": 32,
   "metadata": {},
   "outputs": [
    {
     "data": {
      "text/html": [
       "<div>\n",
       "<style scoped>\n",
       "    .dataframe tbody tr th:only-of-type {\n",
       "        vertical-align: middle;\n",
       "    }\n",
       "\n",
       "    .dataframe tbody tr th {\n",
       "        vertical-align: top;\n",
       "    }\n",
       "\n",
       "    .dataframe thead th {\n",
       "        text-align: right;\n",
       "    }\n",
       "</style>\n",
       "<table border=\"1\" class=\"dataframe\">\n",
       "  <thead>\n",
       "    <tr style=\"text-align: right;\">\n",
       "      <th></th>\n",
       "      <th>Question</th>\n",
       "      <th>Answer</th>\n",
       "      <th>dirt</th>\n",
       "      <th>humor</th>\n",
       "      <th>kwid</th>\n",
       "      <th>meta</th>\n",
       "    </tr>\n",
       "  </thead>\n",
       "  <tbody>\n",
       "    <tr>\n",
       "      <th>0</th>\n",
       "      <td>What's the best anti diarrheal prescription?</td>\n",
       "      <td>Mycheexarphlexin</td>\n",
       "      <td>0.0</td>\n",
       "      <td>0.2</td>\n",
       "      <td>BEST-ANTI-DIARRHEAL-PRESCRIPTION-MYCHEEXARPHLEXIN</td>\n",
       "      <td>NaN</td>\n",
       "    </tr>\n",
       "    <tr>\n",
       "      <th>1</th>\n",
       "      <td>What do you call a person who is outside a doo...</td>\n",
       "      <td>Matt</td>\n",
       "      <td>0.0</td>\n",
       "      <td>0.2</td>\n",
       "      <td>PERSON-OUTSIDE-DOOR-ARMS-LEGS-MATT</td>\n",
       "      <td>NaN</td>\n",
       "    </tr>\n",
       "    <tr>\n",
       "      <th>2</th>\n",
       "      <td>Which Star Trek character is a member of the m...</td>\n",
       "      <td>Jean-Luc Pickacard</td>\n",
       "      <td>0.0</td>\n",
       "      <td>0.2</td>\n",
       "      <td>STAR-TREK-CHARACTER-MEMBER-MAGIC-CIRCLE-JEANLU...</td>\n",
       "      <td>NaN</td>\n",
       "    </tr>\n",
       "    <tr>\n",
       "      <th>3</th>\n",
       "      <td>What's the difference between a bullet and a h...</td>\n",
       "      <td>A bullet doesn't miss Harambe</td>\n",
       "      <td>0.0</td>\n",
       "      <td>0.2</td>\n",
       "      <td>DIFFERENCE-BULLET-HUMAN-BULLET-DOESNT-MISS-HAR...</td>\n",
       "      <td>NaN</td>\n",
       "    </tr>\n",
       "    <tr>\n",
       "      <th>4</th>\n",
       "      <td>Why was the Ethiopian baby crying?</td>\n",
       "      <td>He was having a mid-life crisis</td>\n",
       "      <td>0.0</td>\n",
       "      <td>0.2</td>\n",
       "      <td>ETHIOPIAN-BABY-CRYING-MIDLIFE-CRISIS</td>\n",
       "      <td>NaN</td>\n",
       "    </tr>\n",
       "  </tbody>\n",
       "</table>\n",
       "</div>"
      ],
      "text/plain": [
       "                                            Question  \\\n",
       "0       What's the best anti diarrheal prescription?   \n",
       "1  What do you call a person who is outside a doo...   \n",
       "2  Which Star Trek character is a member of the m...   \n",
       "3  What's the difference between a bullet and a h...   \n",
       "4                 Why was the Ethiopian baby crying?   \n",
       "\n",
       "                            Answer  dirt  humor  \\\n",
       "0                 Mycheexarphlexin   0.0    0.2   \n",
       "1                             Matt   0.0    0.2   \n",
       "2               Jean-Luc Pickacard   0.0    0.2   \n",
       "3    A bullet doesn't miss Harambe   0.0    0.2   \n",
       "4  He was having a mid-life crisis   0.0    0.2   \n",
       "\n",
       "                                                kwid  meta  \n",
       "0  BEST-ANTI-DIARRHEAL-PRESCRIPTION-MYCHEEXARPHLEXIN   NaN  \n",
       "1                 PERSON-OUTSIDE-DOOR-ARMS-LEGS-MATT   NaN  \n",
       "2  STAR-TREK-CHARACTER-MEMBER-MAGIC-CIRCLE-JEANLU...   NaN  \n",
       "3  DIFFERENCE-BULLET-HUMAN-BULLET-DOESNT-MISS-HAR...   NaN  \n",
       "4               ETHIOPIAN-BABY-CRYING-MIDLIFE-CRISIS   NaN  "
      ]
     },
     "execution_count": 32,
     "metadata": {},
     "output_type": "execute_result"
    }
   ],
   "source": [
    "import pandas as pd\n",
    "df = pd.read_csv(r\"E:\\Projects\\encoder - Decoder - chatbot\\qajokes1.1.2.csv\")\n",
    "df.head(5)"
   ]
  },
  {
   "cell_type": "code",
   "execution_count": 33,
   "metadata": {},
   "outputs": [
    {
     "name": "stdout",
     "output_type": "stream",
     "text": [
      "<class 'pandas.core.frame.DataFrame'>\n",
      "RangeIndex: 75107 entries, 0 to 75106\n",
      "Data columns (total 2 columns):\n",
      " #   Column    Non-Null Count  Dtype \n",
      "---  ------    --------------  ----- \n",
      " 0   Question  75107 non-null  object\n",
      " 1   Answer    75107 non-null  object\n",
      "dtypes: object(2)\n",
      "memory usage: 1.1+ MB\n"
     ]
    }
   ],
   "source": [
    "df = df.drop(columns=['kwid' , 'meta', 'dirt' , 'humor'])\n",
    "df = df.dropna()\n",
    "df = df.sample(frac=1).reset_index(drop=True)\n",
    "df.info()"
   ]
  },
  {
   "cell_type": "code",
   "execution_count": 34,
   "metadata": {},
   "outputs": [
    {
     "data": {
      "text/html": [
       "<div>\n",
       "<style scoped>\n",
       "    .dataframe tbody tr th:only-of-type {\n",
       "        vertical-align: middle;\n",
       "    }\n",
       "\n",
       "    .dataframe tbody tr th {\n",
       "        vertical-align: top;\n",
       "    }\n",
       "\n",
       "    .dataframe thead th {\n",
       "        text-align: right;\n",
       "    }\n",
       "</style>\n",
       "<table border=\"1\" class=\"dataframe\">\n",
       "  <thead>\n",
       "    <tr style=\"text-align: right;\">\n",
       "      <th></th>\n",
       "      <th>Question</th>\n",
       "      <th>Answer</th>\n",
       "    </tr>\n",
       "  </thead>\n",
       "  <tbody>\n",
       "    <tr>\n",
       "      <th>5089</th>\n",
       "      <td>What did the Mother say to her son when she sa...</td>\n",
       "      <td>Your Dad and I are getting a divorce.</td>\n",
       "    </tr>\n",
       "    <tr>\n",
       "      <th>53813</th>\n",
       "      <td>Who doesn't like a hot date?</td>\n",
       "      <td>A necrophiliac.</td>\n",
       "    </tr>\n",
       "    <tr>\n",
       "      <th>11240</th>\n",
       "      <td>What do you get when you mix Hitler with a dol...</td>\n",
       "      <td>Adolfphin</td>\n",
       "    </tr>\n",
       "    <tr>\n",
       "      <th>47206</th>\n",
       "      <td>Why are turn signals great workers?</td>\n",
       "      <td>When they get tired and burn out, they work tw...</td>\n",
       "    </tr>\n",
       "    <tr>\n",
       "      <th>29857</th>\n",
       "      <td>What's the name of West Virginia's version of ...</td>\n",
       "      <td>Gummy Bear</td>\n",
       "    </tr>\n",
       "  </tbody>\n",
       "</table>\n",
       "</div>"
      ],
      "text/plain": [
       "                                                Question  \\\n",
       "5089   What did the Mother say to her son when she sa...   \n",
       "53813                       Who doesn't like a hot date?   \n",
       "11240  What do you get when you mix Hitler with a dol...   \n",
       "47206                Why are turn signals great workers?   \n",
       "29857  What's the name of West Virginia's version of ...   \n",
       "\n",
       "                                                  Answer  \n",
       "5089              Your Dad and I are getting a divorce.   \n",
       "53813                                    A necrophiliac.  \n",
       "11240                                          Adolfphin  \n",
       "47206  When they get tired and burn out, they work tw...  \n",
       "29857                                         Gummy Bear  "
      ]
     },
     "execution_count": 34,
     "metadata": {},
     "output_type": "execute_result"
    }
   ],
   "source": [
    "df.sample(5)"
   ]
  },
  {
   "cell_type": "code",
   "execution_count": 35,
   "metadata": {},
   "outputs": [
    {
     "name": "stdout",
     "output_type": "stream",
     "text": [
      "<class 'pandas.core.frame.DataFrame'>\n",
      "RangeIndex: 221282 entries, 0 to 221281\n",
      "Data columns (total 2 columns):\n",
      " #   Column     Non-Null Count   Dtype \n",
      "---  ------     --------------   ----- \n",
      " 0   questions  221282 non-null  object\n",
      " 1   answers    221282 non-null  object\n",
      "dtypes: object(2)\n",
      "memory usage: 3.4+ MB\n"
     ]
    }
   ],
   "source": [
    "#combine convokit dataset also\n",
    "df2 = pd.read_csv(r\"E:\\Projects\\encoder - Decoder - chatbot\\Convokit_dataset.csv\")\n",
    "df2 = df2.drop(columns=['Unnamed: 0'])\n",
    "df2 = df2.dropna()\n",
    "df2 = df2.sample(frac=1).reset_index(drop=True)\n",
    "df2.info()"
   ]
  },
  {
   "cell_type": "code",
   "execution_count": 36,
   "metadata": {},
   "outputs": [
    {
     "data": {
      "text/html": [
       "<div>\n",
       "<style scoped>\n",
       "    .dataframe tbody tr th:only-of-type {\n",
       "        vertical-align: middle;\n",
       "    }\n",
       "\n",
       "    .dataframe tbody tr th {\n",
       "        vertical-align: top;\n",
       "    }\n",
       "\n",
       "    .dataframe thead th {\n",
       "        text-align: right;\n",
       "    }\n",
       "</style>\n",
       "<table border=\"1\" class=\"dataframe\">\n",
       "  <thead>\n",
       "    <tr style=\"text-align: right;\">\n",
       "      <th></th>\n",
       "      <th>Question</th>\n",
       "      <th>Answer</th>\n",
       "    </tr>\n",
       "  </thead>\n",
       "  <tbody>\n",
       "    <tr>\n",
       "      <th>0</th>\n",
       "      <td>Look, let me go back in there and face the peril?</td>\n",
       "      <td>You were, Sir Galahad, You were in terrible pe...</td>\n",
       "    </tr>\n",
       "    <tr>\n",
       "      <th>1</th>\n",
       "      <td>Here. Behind you.</td>\n",
       "      <td>Where?</td>\n",
       "    </tr>\n",
       "    <tr>\n",
       "      <th>2</th>\n",
       "      <td>What do you call someone with a large head?</td>\n",
       "      <td>The headmaster.</td>\n",
       "    </tr>\n",
       "    <tr>\n",
       "      <th>3</th>\n",
       "      <td>I'm sorry I treated you mean today. You should...</td>\n",
       "      <td>Like even today.  I woke up this morning, you ...</td>\n",
       "    </tr>\n",
       "    <tr>\n",
       "      <th>4</th>\n",
       "      <td>Which gospel contains Jesus' parable about the...</td>\n",
       "      <td>Math hue.</td>\n",
       "    </tr>\n",
       "  </tbody>\n",
       "</table>\n",
       "</div>"
      ],
      "text/plain": [
       "                                            Question  \\\n",
       "0  Look, let me go back in there and face the peril?   \n",
       "1                                  Here. Behind you.   \n",
       "2        What do you call someone with a large head?   \n",
       "3  I'm sorry I treated you mean today. You should...   \n",
       "4  Which gospel contains Jesus' parable about the...   \n",
       "\n",
       "                                              Answer  \n",
       "0  You were, Sir Galahad, You were in terrible pe...  \n",
       "1                                             Where?  \n",
       "2                                    The headmaster.  \n",
       "3  Like even today.  I woke up this morning, you ...  \n",
       "4                                          Math hue.  "
      ]
     },
     "execution_count": 36,
     "metadata": {},
     "output_type": "execute_result"
    }
   ],
   "source": [
    "#concatinating both datsets\n",
    "# Rename columns in df2 to match df\n",
    "df2 = df2.rename(columns={'questions': 'Question', 'answers': 'Answer'})\n",
    "\n",
    "# Concatenate both datasets\n",
    "dfn = pd.concat([df, df2], ignore_index=True)\n",
    "\n",
    "dfn = dfn.sample(frac=1).reset_index(drop=True)\n",
    "\n",
    "dfn.head()"
   ]
  },
  {
   "cell_type": "code",
   "execution_count": null,
   "metadata": {},
   "outputs": [],
   "source": []
  }
 ],
 "metadata": {
  "kernelspec": {
   "display_name": "tf-gpu-2",
   "language": "python",
   "name": "python3"
  },
  "language_info": {
   "codemirror_mode": {
    "name": "ipython",
    "version": 3
   },
   "file_extension": ".py",
   "mimetype": "text/x-python",
   "name": "python",
   "nbconvert_exporter": "python",
   "pygments_lexer": "ipython3",
   "version": "3.10.16"
  }
 },
 "nbformat": 4,
 "nbformat_minor": 2
}
