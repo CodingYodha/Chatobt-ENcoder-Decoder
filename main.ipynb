{
 "cells": [
  {
   "cell_type": "code",
   "execution_count": 1,
   "metadata": {},
   "outputs": [
    {
     "name": "stdout",
     "output_type": "stream",
     "text": [
      "Defaulting to user installation because normal site-packages is not writeable\n",
      "Collecting convokit\n",
      "  Using cached convokit-3.1.0-py3-none-any.whl\n",
      "Installing collected packages: convokit\n",
      "Successfully installed convokit-3.1.0\n"
     ]
    }
   ],
   "source": [
    "!pip install convokit --no-deps\n"
   ]
  },
  {
   "cell_type": "code",
   "execution_count": 2,
   "metadata": {},
   "outputs": [],
   "source": [
    "import torch"
   ]
  },
  {
   "cell_type": "code",
   "execution_count": 3,
   "metadata": {},
   "outputs": [
    {
     "data": {
      "text/plain": [
       "True"
      ]
     },
     "execution_count": 3,
     "metadata": {},
     "output_type": "execute_result"
    }
   ],
   "source": [
    "torch.cuda.is_available()"
   ]
  },
  {
   "cell_type": "code",
   "execution_count": 4,
   "metadata": {},
   "outputs": [
    {
     "name": "stdout",
     "output_type": "stream",
     "text": [
      "An error occurred: No module named 'bson'\n"
     ]
    },
    {
     "name": "stderr",
     "output_type": "stream",
     "text": [
      "C:\\Users\\Shiva\\AppData\\Roaming\\Python\\Python310\\site-packages\\convokit\\__init__.py:26: UserWarning: If you are using ConvoKit with Google Colab, incorrect versions of some packages (ex. scipy) may be imported while runtime start. To fix the issue, restart the session and run all codes again. Thank you!\n",
      "  warnings.warn(\n"
     ]
    },
    {
     "ename": "ImportError",
     "evalue": "cannot import name 'Corpus' from 'convokit' (C:\\Users\\Shiva\\AppData\\Roaming\\Python\\Python310\\site-packages\\convokit\\__init__.py)",
     "output_type": "error",
     "traceback": [
      "\u001b[1;31m---------------------------------------------------------------------------\u001b[0m",
      "\u001b[1;31mImportError\u001b[0m                               Traceback (most recent call last)",
      "Cell \u001b[1;32mIn[4], line 2\u001b[0m\n\u001b[0;32m      1\u001b[0m \u001b[38;5;28;01mimport\u001b[39;00m\u001b[38;5;250m \u001b[39m\u001b[38;5;21;01mpandas\u001b[39;00m\u001b[38;5;250m \u001b[39m\u001b[38;5;28;01mas\u001b[39;00m\u001b[38;5;250m \u001b[39m\u001b[38;5;21;01mpd\u001b[39;00m\n\u001b[1;32m----> 2\u001b[0m \u001b[38;5;28;01mfrom\u001b[39;00m\u001b[38;5;250m \u001b[39m\u001b[38;5;21;01mconvokit\u001b[39;00m\u001b[38;5;250m \u001b[39m\u001b[38;5;28;01mimport\u001b[39;00m Corpus, download\n\u001b[0;32m      4\u001b[0m \u001b[38;5;66;03m# Download and load the corpus\u001b[39;00m\n\u001b[0;32m      5\u001b[0m corpus \u001b[38;5;241m=\u001b[39m Corpus(filename\u001b[38;5;241m=\u001b[39mdownload(\u001b[38;5;124m\"\u001b[39m\u001b[38;5;124mmovie-corpus\u001b[39m\u001b[38;5;124m\"\u001b[39m))\n",
      "\u001b[1;31mImportError\u001b[0m: cannot import name 'Corpus' from 'convokit' (C:\\Users\\Shiva\\AppData\\Roaming\\Python\\Python310\\site-packages\\convokit\\__init__.py)"
     ]
    }
   ],
   "source": [
    "import pandas as pd\n",
    "from convokit import Corpus, download\n",
    "\n",
    "# Download and load the corpus\n",
    "corpus = Corpus(filename=download(\"movie-corpus\"))\n",
    "corpus.print_summary_stats()\n",
    "\n",
    "# Extract utterance data\n",
    "data = []\n",
    "for utt in corpus.iter_utterances():\n",
    "    data.append({\n",
    "        \"conversation_id\": utt.conversation_id,\n",
    "        \"utterance_id\": utt.id,\n",
    "        \"speaker\": utt.speaker.id,\n",
    "        \"text\": utt.text\n",
    "    })\n",
    "\n"
   ]
  }
 ],
 "metadata": {
  "kernelspec": {
   "display_name": "tf-gpu-2",
   "language": "python",
   "name": "python3"
  },
  "language_info": {
   "codemirror_mode": {
    "name": "ipython",
    "version": 3
   },
   "file_extension": ".py",
   "mimetype": "text/x-python",
   "name": "python",
   "nbconvert_exporter": "python",
   "pygments_lexer": "ipython3",
   "version": "3.10.16"
  }
 },
 "nbformat": 4,
 "nbformat_minor": 2
}
